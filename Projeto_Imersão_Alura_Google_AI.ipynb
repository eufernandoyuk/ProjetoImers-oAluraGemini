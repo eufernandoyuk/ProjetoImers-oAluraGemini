{
  "nbformat": 4,
  "nbformat_minor": 0,
  "metadata": {
    "colab": {
      "provenance": [],
      "authorship_tag": "ABX9TyNXOMJjbsuqIE0crWmP2DCO",
      "include_colab_link": true
    },
    "kernelspec": {
      "name": "python3",
      "display_name": "Python 3"
    },
    "language_info": {
      "name": "python"
    }
  },
  "cells": [
    {
      "cell_type": "markdown",
      "metadata": {
        "id": "view-in-github",
        "colab_type": "text"
      },
      "source": [
        "<a href=\"https://colab.research.google.com/github/eufernandoyuk/Projeto_Alura_Gemini/blob/main/Projeto_Imers%C3%A3o_Alura_Google_AI.ipynb\" target=\"_parent\"><img src=\"https://colab.research.google.com/assets/colab-badge.svg\" alt=\"Open In Colab\"/></a>"
      ]
    },
    {
      "cell_type": "markdown",
      "source": [
        "Projeto: Estudo Otimizado com Colab e Gemini"
      ],
      "metadata": {
        "id": "wSG42Xwg1MgJ"
      }
    },
    {
      "cell_type": "code",
      "execution_count": 3,
      "metadata": {
        "id": "CKVe0_SOylNS"
      },
      "outputs": [],
      "source": [
        "!pip install -q -U google-generativeai"
      ]
    },
    {
      "cell_type": "code",
      "source": [
        "# Importando o SDK Python\n",
        "import google.generativeai as genai\n",
        "from google.colab import userdata\n",
        "\n",
        "# Obtendo a chave API do Colab\n",
        "api_key = userdata.get('SECRETY_KEY')\n",
        "\n",
        "# Configurando o Gemini com a chave API\n",
        "genai.configure(api_key=api_key)\n",
        "\n",
        "# Criando um modelo Gemini\n",
        "model = genai.GenerativeModel(\"gemini-pro\")\n",
        "\n",
        "# Inicializando o chatbot\n",
        "chat = model.start_chat(history=[])\n",
        "\n",
        "# Listando os modelos disponíveis\n",
        "for m in genai.list_models():\n",
        "  if 'generateContent' in m.supported_generation_methods:\n",
        "    print(m.name)\n"
      ],
      "metadata": {
        "colab": {
          "base_uri": "https://localhost:8080/",
          "height": 138
        },
        "id": "DqOYN7E4yp4p",
        "outputId": "94a48894-d1dc-4773-c83d-47f76bd134b1"
      },
      "execution_count": 11,
      "outputs": [
        {
          "output_type": "stream",
          "name": "stdout",
          "text": [
            "models/gemini-1.0-pro\n",
            "models/gemini-1.0-pro-001\n",
            "models/gemini-1.0-pro-latest\n",
            "models/gemini-1.0-pro-vision-latest\n",
            "models/gemini-1.5-pro-latest\n",
            "models/gemini-pro\n",
            "models/gemini-pro-vision\n"
          ]
        }
      ]
    },
    {
      "cell_type": "code",
      "source": [
        "# Disponibilidade - Pede ao usuário que informe seus horários livres para estudo.\n",
        "def get_disponibilidade():\n",
        "  disponibilidade = input(\"Informe seus horários livres para estudo (ex: Segunda-feira: 10h-12h, Quarta-feira: 15h-17h): \")\n",
        "  # Armazenar disponibilidade em uma variável (por exemplo, 'disponibilidade_usuario')\n",
        "  return disponibilidade\n",
        "\n",
        "# Objetivos - Pede ao usuário que defina seus objetivos de estudo.\n",
        "def get_objetivos():\n",
        "  objetivos = input(\"Defina seus objetivos de estudo (ex: Concluir a disciplina de Matemática, Aprender Francês): \")\n",
        "  # Armazenar objetivos em uma variável (por exemplo, 'objetivos_usuario')\n",
        "  return objetivos\n",
        "\n",
        "# Estilo de Aprendizado (Exemplo Simples) - Pede ao usuário que identifique seu estilo de aprendizado (visual, auditivo ou cinestésico).\n",
        "def get_estilo_aprendizado():\n",
        "  estilo_aprendizado = input(\"Você aprende melhor vendo (visual), ouvindo (auditivo) ou fazendo (cinestésico)? \")\n",
        "  # Armazenar estilo de aprendizado em uma variável (por exemplo, 'estilo_aprendizado_usuario')\n",
        "  return estilo_aprendizado\n",
        "\n",
        "# Material de Estudo - Pede ao usuário que informe o material de estudo que utilizará (livros, artigos, vídeos, etc.).\n",
        "def get_material_estudo():\n",
        "  material_estudo = input(\"Informe o material de estudo que utilizará (livros, artigos, vídeos, etc.): \")\n",
        "  # Armazenar material de estudo em uma variável (por exemplo, 'material_estudo_usuario')\n",
        "  return material_estudo\n",
        "\n",
        "# Chamada das funções para coletar dados - As funções são chamadas na ordem para coletar todas as informações do usuário.\n",
        "disponibilidade_usuario = get_disponibilidade()\n",
        "objetivos_usuario = get_objetivos()\n",
        "estilo_aprendizado_usuario = get_estilo_aprendizado()\n",
        "material_estudo_usuario = get_material_estudo()\n"
      ],
      "metadata": {
        "colab": {
          "base_uri": "https://localhost:8080/"
        },
        "id": "zoU0Wh9_zimw",
        "outputId": "6972ffe6-a179-4f18-a33b-719a832a4f04"
      },
      "execution_count": 6,
      "outputs": [
        {
          "name": "stdout",
          "output_type": "stream",
          "text": [
            "Informe seus horários livres para estudo (ex: Segunda-feira: 10h-12h, Quarta-feira: 15h-17h): Segunda-feira: 10h - 11h, Terça-feira: 17h - 18h; Sábado: 10h - 12h\n",
            "Defina seus objetivos de estudo (ex: Concluir a disciplina de Matemática, Aprender Francês): aprender Alemão\n",
            "Você aprende melhor vendo (visual), ouvindo (auditivo) ou fazendo (cinestésico)? cinestésico\n",
            "Informe o material de estudo que utilizará (livros, artigos, vídeos, etc.): video, aplicativos de idioma\n"
          ]
        }
      ]
    },
    {
      "cell_type": "code",
      "source": [
        "# Processamento inicial utilizando o Gemini\n",
        "prompt = f\"Analise os dados do usuário para criar um plano de estudo otimizado. \\n Disponibilidade: {disponibilidade_usuario} \\n Objetivos: {objetivos_usuario} \\n Estilo de Aprendizado: {estilo_aprendizado_usuario} \\n Material de Estudo: {material_estudo_usuario}\"\n",
        "\n",
        "response = chat.send_message(prompt)\n",
        "print('Resposta:', response.text, '\\n')\n",
        "\n",
        "# Extrair informações da resposta do Gemini (por exemplo, tópicos para estudar, tempo estimado)\n"
      ],
      "metadata": {
        "colab": {
          "base_uri": "https://localhost:8080/",
          "height": 867
        },
        "id": "6IrblwhV0Ddz",
        "outputId": "bc093bf9-8e4c-4641-9e0a-9e8bef64db51"
      },
      "execution_count": 13,
      "outputs": [
        {
          "output_type": "stream",
          "name": "stdout",
          "text": [
            "Resposta: **Plano de Estudo Otimizado para Aprendizado de Alemão**\n",
            "\n",
            "**Disponibilidade:**\n",
            "\n",
            "* Segunda-feira: 10h - 11h\n",
            "* Terça-feira: 17h - 18h\n",
            "* Sábado: 10h - 12h\n",
            "\n",
            "**Objetivos:**\n",
            "\n",
            "* Aprender Alemão\n",
            "\n",
            "**Estilo de Aprendizado:**\n",
            "\n",
            "* Cinestésico\n",
            "\n",
            "**Materiais de Estudo:**\n",
            "\n",
            "* Vídeos\n",
            "* Aplicativos de idioma\n",
            "\n",
            "**Plano de Estudo:**\n",
            "\n",
            "**Segunda-feira (10h - 11h)**\n",
            "\n",
            "* **10h - 10h15:** Assista a um vídeo curto sobre gramática alemã básica e tome notas em um caderno.\n",
            "* **10h15 - 10h30:** Pratique escrever as palavras e frases apresentadas no vídeo.\n",
            "* **10h30 - 11h00:** Use um aplicativo de idiomas para reforçar o vocabulário e a pronúncia.\n",
            "\n",
            "**Terça-feira (17h - 18h)**\n",
            "\n",
            "* **17h - 17h15:** Assista a um vídeo sobre um tópico cultural alemão, como culinária ou costumes.\n",
            "* **17h15 - 17h30:** Faça um jogo de perguntas e respostas com um parceiro de estudos ou professor para testar sua compreensão.\n",
            "* **17h30 - 18h00:** Pratique falar alemão com um parceiro de conversação ou use um aplicativo de idiomas com recursos de fala.\n",
            "\n",
            "**Sábado (10h - 12h)**\n",
            "\n",
            "* **10h - 10h30:** Revise o material aprendido durante a semana.\n",
            "* **10h30 - 11h00:** Assista a um vídeo sobre um tema gramatical mais avançado e crie um mapa mental para visualizar os conceitos.\n",
            "* **11h00 - 12h00:** Participe de uma atividade cinestésica, como encenar um diálogo ou criar um jogo de tabuleiro relacionado ao alemão.\n",
            "\n",
            "**Dicas Adicionais:**\n",
            "\n",
            "* Divida grandes tarefas em etapas menores para torná-las menos assustadoras.\n",
            "* Encontre um parceiro de estudos ou professor para suporte e motivação.\n",
            "* Torne o aprendizado divertido e envolvente usando jogos, vídeos e atividades práticas.\n",
            "* Pratique regularmente e revise o material aprendido para melhorar a retenção.\n",
            "* Não tenha medo de cometer erros - eles são oportunidades de aprendizado. \n",
            "\n"
          ]
        }
      ]
    }
  ]
}