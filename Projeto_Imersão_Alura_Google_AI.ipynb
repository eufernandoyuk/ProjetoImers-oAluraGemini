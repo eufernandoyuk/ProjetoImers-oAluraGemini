{
  "nbformat": 4,
  "nbformat_minor": 0,
  "metadata": {
    "colab": {
      "provenance": [],
      "authorship_tag": "ABX9TyPg+4aP4kS93sjWLha4wM/2",
      "include_colab_link": true
    },
    "kernelspec": {
      "name": "python3",
      "display_name": "Python 3"
    },
    "language_info": {
      "name": "python"
    }
  },
  "cells": [
    {
      "cell_type": "markdown",
      "metadata": {
        "id": "view-in-github",
        "colab_type": "text"
      },
      "source": [
        "<a href=\"https://colab.research.google.com/github/eufernandoyuk/Projeto_Alura_Gemini/blob/main/Projeto_Imers%C3%A3o_Alura_Google_AI.ipynb\" target=\"_parent\"><img src=\"https://colab.research.google.com/assets/colab-badge.svg\" alt=\"Open In Colab\"/></a>"
      ]
    },
    {
      "cell_type": "markdown",
      "source": [
        "Projeto: Estudo Otimizado com Colab e Gemini"
      ],
      "metadata": {
        "id": "wSG42Xwg1MgJ"
      }
    },
    {
      "cell_type": "code",
      "execution_count": null,
      "metadata": {
        "id": "CKVe0_SOylNS"
      },
      "outputs": [],
      "source": [
        "!pip install -q -U google-generativeai"
      ]
    },
    {
      "cell_type": "code",
      "source": [
        "# Importando o SDK Python\n",
        "import google.generativeai as genai\n",
        "from google.colab import userdata\n",
        "\n",
        "# Obtendo a chave API do Colab\n",
        "api_key = userdata.get('SECRETY_KEY')\n",
        "\n",
        "# Configurando o Gemini com a chave API\n",
        "genai.configure(api_key=api_key)\n",
        "\n",
        "# Criando um modelo Gemini\n",
        "model = genai.GenerativeModel(\"gemini-pro\")\n",
        "\n",
        "# Listando os modelos disponíveis\n",
        "for m in genai.list_models():\n",
        "  if 'generateContent' in m.supported_generation_methods:\n",
        "    print(m.name)\n"
      ],
      "metadata": {
        "colab": {
          "base_uri": "https://localhost:8080/",
          "height": 139
        },
        "id": "DqOYN7E4yp4p",
        "outputId": "c786b355-eadd-4e54-9d16-df35bc09471d"
      },
      "execution_count": null,
      "outputs": [
        {
          "output_type": "stream",
          "name": "stdout",
          "text": [
            "models/gemini-1.0-pro\n",
            "models/gemini-1.0-pro-001\n",
            "models/gemini-1.0-pro-latest\n",
            "models/gemini-1.0-pro-vision-latest\n",
            "models/gemini-1.5-pro-latest\n",
            "models/gemini-pro\n",
            "models/gemini-pro-vision\n"
          ]
        }
      ]
    },
    {
      "cell_type": "code",
      "source": [
        "# Disponibilidade - Pede ao usuário que informe seus horários livres para estudo.\n",
        "def get_disponibilidade():\n",
        "  disponibilidade = input(\"Informe seus horários livres para estudo (ex: Segunda-feira: 10h-12h, Quarta-feira: 15h-17h): \")\n",
        "  # Armazenar disponibilidade em uma variável (por exemplo, 'disponibilidade_usuario')\n",
        "  return disponibilidade\n",
        "\n",
        "# Objetivos - Pede ao usuário que defina seus objetivos de estudo.\n",
        "def get_objetivos():\n",
        "  objetivos = input(\"Defina seus objetivos de estudo (ex: Concluir a disciplina de Matemática, Aprender Francês): \")\n",
        "  # Armazenar objetivos em uma variável (por exemplo, 'objetivos_usuario')\n",
        "  return objetivos\n",
        "\n",
        "# Estilo de Aprendizado (Exemplo Simples) - Pede ao usuário que identifique seu estilo de aprendizado (visual, auditivo ou cinestésico).\n",
        "def get_estilo_aprendizado():\n",
        "  estilo_aprendizado = input(\"Você aprende melhor vendo (visual), ouvindo (auditivo) ou fazendo (cinestésico)? \")\n",
        "  # Armazenar estilo de aprendizado em uma variável (por exemplo, 'estilo_aprendizado_usuario')\n",
        "  return estilo_aprendizado\n",
        "\n",
        "# Material de Estudo - Pede ao usuário que informe o material de estudo que utilizará (livros, artigos, vídeos, etc.).\n",
        "def get_material_estudo():\n",
        "  material_estudo = input(\"Informe o material de estudo que utilizará (livros, artigos, vídeos, etc.): \")\n",
        "  # Armazenar material de estudo em uma variável (por exemplo, 'material_estudo_usuario')\n",
        "  return material_estudo\n",
        "\n",
        "# Chamada das funções para coletar dados - As funções são chamadas na ordem para coletar todas as informações do usuário.\n",
        "disponibilidade_usuario = get_disponibilidade()\n",
        "objetivos_usuario = get_objetivos()\n",
        "estilo_aprendizado_usuario = get_estilo_aprendizado()\n",
        "material_estudo_usuario = get_material_estudo()\n"
      ],
      "metadata": {
        "colab": {
          "base_uri": "https://localhost:8080/"
        },
        "id": "zoU0Wh9_zimw",
        "outputId": "e7d6e22c-4cb4-4d0c-e6a2-8e566a08d419"
      },
      "execution_count": null,
      "outputs": [
        {
          "name": "stdout",
          "output_type": "stream",
          "text": [
            "Informe seus horários livres para estudo (ex: Segunda-feira: 10h-12h, Quarta-feira: 15h-17h): Terça-feira: 18h - 21h, Sábado: 10h - 14h\n",
            "Defina seus objetivos de estudo (ex: Concluir a disciplina de Matemática, Aprender Francês): aprender python\n",
            "Você aprende melhor vendo (visual), ouvindo (auditivo) ou fazendo (cinestésico)? visual\n",
            "Informe o material de estudo que utilizará (livros, artigos, vídeos, etc.): videos\n"
          ]
        }
      ]
    },
    {
      "cell_type": "code",
      "source": [
        "# Processamento inicial utilizando o Gemini\n",
        "prompt = f\"Analise os dados do usuário para criar um plano de estudo otimizado. \\n Disponibilidade: {disponibilidade_usuario} \\n Objetivos: {objetivos_usuario} \\n Estilo de Aprendizado: {estilo_aprendizado_usuario} \\n Material de Estudo: {material_estudo_usuario}\"\n",
        "\n",
        "response = chat.send_message(prompt)\n",
        "print('Resposta:', response.text, '\\n')\n",
        "\n",
        "# Extrair informações da resposta do Gemini (por exemplo, tópicos para estudar, tempo estimado)\n"
      ],
      "metadata": {
        "colab": {
          "base_uri": "https://localhost:8080/",
          "height": 954
        },
        "id": "6IrblwhV0Ddz",
        "outputId": "d527c4d6-0acf-4d50-c1d9-dc276c9ce6d9"
      },
      "execution_count": null,
      "outputs": [
        {
          "output_type": "stream",
          "name": "stdout",
          "text": [
            "Resposta: **Plano de Estudo Otimizado**\n",
            "\n",
            "**Objetivos:** Aprender Python\n",
            "\n",
            "**Público-alvo:** Usuário visual com disponibilidade limitada\n",
            "\n",
            "**Material de estudo:** Vídeos\n",
            "\n",
            "**Disponibilidade:** Terça-feira: 18h - 21h, Sábado: 10h - 14h\n",
            "\n",
            "**Duração:** 10 semanas\n",
            "\n",
            "**Plano de Aulas:**\n",
            "\n",
            "**Semana 1:**\n",
            "\n",
            "* **Terça-feira:**\n",
            "    * Assista ao vídeo \"Introdução ao Python\" (3 horas)\n",
            "* **Sábado:**\n",
            "    * Revise o vídeo e pratique exercícios básicos (2 horas)\n",
            "\n",
            "**Semana 2:**\n",
            "\n",
            "* **Terça-feira:**\n",
            "    * Assista ao vídeo \"Variáveis e Tipos de Dados\" (3 horas)\n",
            "* **Sábado:**\n",
            "    * Implemente conceitos de variáveis e tipos de dados em exercícios práticos (2 horas)\n",
            "\n",
            "**Semanas 3-10:**\n",
            "\n",
            "* Continue alternando entre assistir a vídeos e praticar exercícios durante os horários disponíveis.\n",
            "* Concentre-se em tópicos específicos como operações matemáticas, condicionais, loops e funções.\n",
            "* Use recursos visuais, como diagramas e fluxogramas, para reforçar a compreensão.\n",
            "\n",
            "**Estratégia de Estudo:**\n",
            "\n",
            "* **Horários regulares:** Estude durante os horários definidos para manter a consistência.\n",
            "* **Sessões curtas e focadas:** Divida as sessões de estudo em blocos menores de 20 a 30 minutos para melhor retenção.\n",
            "* **Revisões regulares:** Revise o material estudado anteriormente para consolidar o aprendizado.\n",
            "* **Exercícios práticos:** Aplique os conceitos aprendidos por meio de exercícios e projetos práticos.\n",
            "* **Comunidade ou fórum:** Junte-se a uma comunidade ou fórum online para obter suporte e compartilhar conhecimento.\n",
            "\n",
            "**Flexibilidade:**\n",
            "\n",
            "* O plano pode ser ajustado com base no progresso e na disponibilidade do usuário.\n",
            "* Se necessário, as sessões de estudo podem ser movidas para horários alternativos ou divididas em períodos menores.\n",
            "* Os recursos visuais podem ser personalizados para atender às preferências do usuário.\n",
            "\n",
            "**Observações:**\n",
            "\n",
            "* As sessões de estudo são um pouco mais longas aos sábados para acomodar a maior disponibilidade.\n",
            "* Os horários de estudo são distribuídos uniformemente ao longo da semana para evitar sobrecarga e promover a retenção.\n",
            "* O usuário é incentivado a aproveitar ao máximo os recursos visuais para aprimorar sua compreensão. \n",
            "\n"
          ]
        }
      ]
    }
  ]
}