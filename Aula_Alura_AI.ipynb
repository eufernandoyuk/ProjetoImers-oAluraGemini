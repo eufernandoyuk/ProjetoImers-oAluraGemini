{
  "nbformat": 4,
  "nbformat_minor": 0,
  "metadata": {
    "colab": {
      "provenance": [],
      "authorship_tag": "ABX9TyOjYdKGCqnU2zIr9mcsHGBf",
      "include_colab_link": true
    },
    "kernelspec": {
      "name": "python3",
      "display_name": "Python 3"
    },
    "language_info": {
      "name": "python"
    }
  },
  "cells": [
    {
      "cell_type": "markdown",
      "metadata": {
        "id": "view-in-github",
        "colab_type": "text"
      },
      "source": [
        "<a href=\"https://colab.research.google.com/github/eufernandoyuk/Projeto_Alura_Gemini/blob/main/Aula_Alura_AI.ipynb\" target=\"_parent\"><img src=\"https://colab.research.google.com/assets/colab-badge.svg\" alt=\"Open In Colab\"/></a>"
      ]
    },
    {
      "cell_type": "code",
      "execution_count": 20,
      "metadata": {
        "id": "vUzcl2dMnbC0"
      },
      "outputs": [],
      "source": [
        "!pip install -q -U google-generativeai"
      ]
    },
    {
      "cell_type": "code",
      "source": [
        "#import the python SDK\n",
        "import google.generativeai as genai\n",
        "from google.colab import userdata\n",
        "api_key = userdata.get('SECRETY_KEY')\n",
        "genai.configure(api_key=api_key)"
      ],
      "metadata": {
        "id": "ODHPIZmtGAo7"
      },
      "execution_count": 49,
      "outputs": []
    },
    {
      "cell_type": "markdown",
      "source": [
        "INICIALIZAR O MODELO GENERATIVO"
      ],
      "metadata": {
        "id": "dB997x9vrOqM"
      }
    },
    {
      "cell_type": "code",
      "source": [
        "model = genai.GenerativeModel(\"gemini-pro\")"
      ],
      "metadata": {
        "id": "dpmKMiNNrRpK"
      },
      "execution_count": 50,
      "outputs": []
    },
    {
      "cell_type": "markdown",
      "source": [
        "Listar os modelos disponíveis"
      ],
      "metadata": {
        "id": "RZIPyjs3r5Bs"
      }
    },
    {
      "cell_type": "code",
      "source": [
        "for m in genai.list_models():\n",
        "  if 'generateContent' in m.supported_generation_methods:\n",
        "    print(m.name)"
      ],
      "metadata": {
        "colab": {
          "base_uri": "https://localhost:8080/",
          "height": 138
        },
        "id": "VDjUs7KVuFXn",
        "outputId": "5db21529-2a2a-4f37-8a8f-abc5c04b8899"
      },
      "execution_count": 51,
      "outputs": [
        {
          "output_type": "stream",
          "name": "stdout",
          "text": [
            "models/gemini-1.0-pro\n",
            "models/gemini-1.0-pro-001\n",
            "models/gemini-1.0-pro-latest\n",
            "models/gemini-1.0-pro-vision-latest\n",
            "models/gemini-1.5-pro-latest\n",
            "models/gemini-pro\n",
            "models/gemini-pro-vision\n"
          ]
        }
      ]
    },
    {
      "cell_type": "code",
      "source": [
        "  generation_config = {\n",
        "      'candidate_count':1,\n",
        "      'temperature':0.5,\n",
        "\n",
        "  }\n",
        ""
      ],
      "metadata": {
        "id": "msjOFXE_vwKF"
      },
      "execution_count": 52,
      "outputs": []
    },
    {
      "cell_type": "markdown",
      "source": [
        "Configurações de segurança"
      ],
      "metadata": {
        "id": "O0Y16Uwdx8fS"
      }
    },
    {
      "cell_type": "code",
      "source": [
        "safety_settings = {\n",
        "    'HARASSMENT': 'BLOCK_NONE',\n",
        "    'HATE': 'BLOCK_NONE',\n",
        "    'SEXUAL': 'BLOCK_NONE',\n",
        "    'DANGEROUS': 'BLOCK_NONE'\n",
        "}"
      ],
      "metadata": {
        "id": "itRTiD9ox3y5"
      },
      "execution_count": 53,
      "outputs": []
    },
    {
      "cell_type": "code",
      "source": [
        "#INICIALIZANDO O MODELO\n",
        "model= genai.GenerativeModel(model_name='gemini-1.0-pro',\n",
        "                             generation_config=generation_config,\n",
        "                             safety_settings=safety_settings\n",
        "                             )"
      ],
      "metadata": {
        "id": "vUZTZnSJy0qH"
      },
      "execution_count": 54,
      "outputs": []
    },
    {
      "cell_type": "code",
      "source": [
        "response = model.generate_content('Aprender conteúdo de AI - dê exemplos')\n",
        "print(response.text)"
      ],
      "metadata": {
        "colab": {
          "base_uri": "https://localhost:8080/",
          "height": 416
        },
        "id": "HmtgjIxB0jKW",
        "outputId": "f0482a4c-70e5-4abe-c2a9-7be1b357abce"
      },
      "execution_count": 55,
      "outputs": [
        {
          "output_type": "stream",
          "name": "stdout",
          "text": [
            "**Conceitos Fundamentais**\n",
            "\n",
            "* **Aprendizado de Máquina:** O processo de ensinar computadores a aprender com dados sem serem explicitamente programados.\n",
            "* **Aprendizado Profundo:** Um tipo de aprendizado de máquina que usa redes neurais artificiais com várias camadas para aprender padrões complexos.\n",
            "* **Aprendizado por Reforço:** Um tipo de aprendizado de máquina em que um agente aprende por meio de tentativa e erro, recebendo recompensas ou punições por suas ações.\n",
            "* **Processamento de Linguagem Natural (PNL):** Um campo da IA que se concentra em permitir que os computadores entendam e gerem a linguagem humana.\n",
            "* **Visão Computacional:** Um campo da IA que se concentra em permitir que os computadores \"vejam\" e interpretem imagens e vídeos.\n",
            "\n",
            "**Aplicações**\n",
            "\n",
            "* **Reconhecimento de Padrões:** Identificar padrões em dados, como imagens, texto ou fala.\n",
            "* **Previsão:** Prever eventos futuros com base em dados históricos.\n",
            "* **Otimização:** Encontrar a melhor solução para um problema específico.\n",
            "* **Tomada de Decisão:** Auxiliar na tomada de decisões informadas com base em dados e análises.\n",
            "* **Automação:** Automatizar tarefas repetitivas ou complexas.\n",
            "\n",
            "**Exemplos Específicos**\n",
            "\n",
            "* **Assistentes Virtuais (por exemplo, Siri, Alexa):** Usam PNL para entender a linguagem humana e fornecer informações ou executar tarefas.\n",
            "* **Sistemas de Recomendação (por exemplo, Netflix, Amazon):** Usam aprendizado de máquina para recomendar produtos ou conteúdo com base no histórico de usuários.\n",
            "* **Carros Autônomos:** Usam visão computacional e aprendizado profundo para navegar em ambientes e tomar decisões de direção.\n",
            "* **Diagnóstico Médico:** Usam aprendizado de máquina para analisar imagens médicas e ajudar os médicos a diagnosticar doenças.\n",
            "* **Análise de Sentimentos:** Usam PNL para analisar o sentimento expresso no texto, como avaliações de produtos ou postagens de mídia social.\n"
          ]
        }
      ]
    },
    {
      "cell_type": "code",
      "source": [
        "#CRIAR CHATBOT\n",
        "chat = model.start_chat(history=[])\n",
        "prompt =input('inserir prompt')\n",
        "\n",
        "while prompt != 'fim':\n",
        "  response = chat.send_message(prompt)\n",
        "  print('Resposta:', response.text, '\\n')\n",
        "  prompt =input('inserir prompt')"
      ],
      "metadata": {
        "colab": {
          "base_uri": "https://localhost:8080/",
          "height": 191
        },
        "id": "jXELe1qD1i12",
        "outputId": "dde25365-b42b-443a-b04c-858f56c6cfc0"
      },
      "execution_count": 56,
      "outputs": [
        {
          "name": "stdout",
          "output_type": "stream",
          "text": [
            "inserir promptqual a capital das filipinas\n",
            "Resposta: Manila \n",
            "\n",
            "inserir promptqual a comida típica desse pais\n",
            "Resposta: Adobo \n",
            "\n",
            "inserir promptdo que é feito esse prato\n",
            "Resposta: Carne de porco ou frango cozidos em molho de vinagre, molho de soja, alho, folhas de louro e pimenta-do-reino \n",
            "\n",
            "inserir promptfim\n"
          ]
        }
      ]
    }
  ]
}